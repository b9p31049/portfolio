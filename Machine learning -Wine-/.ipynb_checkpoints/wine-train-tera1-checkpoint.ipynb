{
 "cells": [
  {
   "cell_type": "code",
   "execution_count": 4,
   "metadata": {},
   "outputs": [
    {
     "name": "stdout",
     "output_type": "stream",
     "text": [
      "正解率= 0.475\n",
      "レポート=\n",
      "               precision    recall  f1-score   support\n",
      "\n",
      "           3       0.00      0.00      0.00         1\n",
      "           4       0.00      0.00      0.00        13\n",
      "           5       0.61      0.43      0.50       169\n",
      "           6       0.42      0.76      0.54       156\n",
      "           7       0.00      0.00      0.00        51\n",
      "           8       0.00      0.00      0.00        10\n",
      "\n",
      "    accuracy                           0.48       400\n",
      "   macro avg       0.17      0.20      0.17       400\n",
      "weighted avg       0.42      0.47      0.42       400\n",
      "\n"
     ]
    },
    {
     "name": "stderr",
     "output_type": "stream",
     "text": [
      "/Users/takahashishun/opt/anaconda3/lib/python3.8/site-packages/sklearn/metrics/_classification.py:1221: UndefinedMetricWarning: Precision and F-score are ill-defined and being set to 0.0 in labels with no predicted samples. Use `zero_division` parameter to control this behavior.\n",
      "  _warn_prf(average, modifier, msg_start, len(result))\n"
     ]
    }
   ],
   "source": [
    "from sklearn import model_selection, svm, metrics\n",
    "\n",
    "# ワインデータ(CSV)を読みこむ --- (*1)\n",
    "wine_csv= []\n",
    "with open(\"winequality-red.csv\", \"r\", encoding=\"utf-8\") as fp:\n",
    "    no = 0\n",
    "    for line in fp:\n",
    "        line = line.strip() \n",
    "        cols = line.split(\";\")\n",
    "        wine_csv.append(cols)\n",
    "\n",
    "# 一行目はヘッダ行なので削除 --- (*2)\n",
    "wine_csv = wine_csv[1:]\n",
    "\n",
    "# CSVの各データを数値に変換 --- (*3)\n",
    "labels = []\n",
    "data = []\n",
    "for cols in wine_csv:\n",
    "    cols = list(map(lambda n: float(n), cols)) # --- (*3a)\n",
    "    # ワインのグレードを調整 --- (*4)\n",
    "    grade = int(cols[11]) # 末尾のデータがワインのグレード\n",
    "    #if grade == 9: grade = 8 # 少なすぎるサンプルを調整\n",
    "    #if grade < 4 : grae = 5\n",
    "    labels.append(grade)\n",
    "    data.append( cols[0:11] ) # ワインの成分データ --- (*5)\n",
    "\n",
    "# 訓練用データとテスト用データに分ける --- (*6)\n",
    "data_train, data_test, label_train, label_test = \\\n",
    "    model_selection.train_test_split(data, labels)\n",
    "\n",
    "# SVMのアルゴリズムを利用して学習 --- (*7)\n",
    "clf = svm.SVC()\n",
    "clf.fit(data_train, label_train)\n",
    "\n",
    "# 予測してみる --- (*8)\n",
    "predict = clf.predict(data_test)\n",
    "\n",
    "# 結果を表示する --- (*9)\n",
    "ac_score = metrics.accuracy_score(label_test, predict)\n",
    "cl_report = metrics.classification_report(label_test, predict)\n",
    "print(\"正解率=\", ac_score)\n",
    "print(\"レポート=\\n\", cl_report)"
   ]
  },
  {
   "cell_type": "code",
   "execution_count": null,
   "metadata": {},
   "outputs": [],
   "source": []
  },
  {
   "cell_type": "code",
   "execution_count": null,
   "metadata": {},
   "outputs": [],
   "source": []
  }
 ],
 "metadata": {
  "kernelspec": {
   "display_name": "Python 3",
   "language": "python",
   "name": "python3"
  },
  "language_info": {
   "codemirror_mode": {
    "name": "ipython",
    "version": 3
   },
   "file_extension": ".py",
   "mimetype": "text/x-python",
   "name": "python",
   "nbconvert_exporter": "python",
   "pygments_lexer": "ipython3",
   "version": "3.8.3"
  }
 },
 "nbformat": 4,
 "nbformat_minor": 4
}
