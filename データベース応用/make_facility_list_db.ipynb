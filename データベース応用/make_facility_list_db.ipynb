{
 "cells": [
  {
   "cell_type": "markdown",
   "metadata": {},
   "source": [
    "# 各種構造化テキストを読み込んでPythonオブジェクトを各種データベースに保存・読み出し"
   ]
  },
  {
   "cell_type": "code",
   "execution_count": 58,
   "metadata": {},
   "outputs": [],
   "source": [
    "from facility import facility\n",
    "import ipywidgets as widgets\n",
    "from IPython.display import display, clear_output"
   ]
  },
  {
   "cell_type": "code",
   "execution_count": 59,
   "metadata": {
    "scrolled": true
   },
   "outputs": [
    {
     "data": {
      "application/vnd.jupyter.widget-view+json": {
       "model_id": "dd1e6b1041a64c8484d726d1f1db8c06",
       "version_major": 2,
       "version_minor": 0
      },
      "text/plain": [
       "RadioButtons(description='入力形式：', options=('定型文字列', 'XML', 'JSON', 'RDB', 'MongoDB'), value='定型文字列')"
      ]
     },
     "metadata": {},
     "output_type": "display_data"
    },
    {
     "data": {
      "application/vnd.jupyter.widget-view+json": {
       "model_id": "0f475c34f14d488cb7b9348fc5ae1f56",
       "version_major": 2,
       "version_minor": 0
      },
      "text/plain": [
       "Text(value='', description='オブジェクト名：', placeholder='RDBのテーブル名にあたるオブジェクト名')"
      ]
     },
     "metadata": {},
     "output_type": "display_data"
    },
    {
     "data": {
      "application/vnd.jupyter.widget-view+json": {
       "model_id": "a4eefbd353c44268b779565e955f0acc",
       "version_major": 2,
       "version_minor": 0
      },
      "text/plain": [
       "Textarea(value='', description='施設情報：', placeholder='各種形式のオブジェクト文字列を貼り付け')"
      ]
     },
     "metadata": {},
     "output_type": "display_data"
    },
    {
     "data": {
      "application/vnd.jupyter.widget-view+json": {
       "model_id": "8a6ffb0f48d34572a0beeeeffcf79d4b",
       "version_major": 2,
       "version_minor": 0
      },
      "text/plain": [
       "RadioButtons(description='出力形式：', options=('XML', 'JSON', 'MongoDB', 'RDB', 'PythonのDict型の文字列'), value='XML')"
      ]
     },
     "metadata": {},
     "output_type": "display_data"
    },
    {
     "data": {
      "application/vnd.jupyter.widget-view+json": {
       "model_id": "91aa819fd62b43c3b93d1b72df7a162f",
       "version_major": 2,
       "version_minor": 0
      },
      "text/plain": [
       "Button(description='送信', style=ButtonStyle())"
      ]
     },
     "metadata": {},
     "output_type": "display_data"
    },
    {
     "name": "stdout",
     "output_type": "stream",
     "text": [
      "SELECT * FROM facility;\n",
      "[2, 'name', '茅ケ崎市立小出小学校']\n",
      "[2, 'category', '公立小学校']\n",
      "[2, 'e_category', '地区防災拠点']\n",
      "[2, 'lodation', '神奈川県茅ケ崎市芹沢994']\n",
      "[2, 'contact', '0467-51-8814']\n",
      "[2, 'latitude', '35.371811']\n",
      "[2, 'longitude', '139.4218083']\n",
      "[2, 'st_type', '防災備蓄倉庫（コンテナ）']\n",
      "[4, 'name', '茅ケ崎市立小出小学校']\n",
      "[4, 'category', '公立小学校']\n",
      "[4, 'e_category', '地区防災拠点']\n",
      "[4, 'lodation', '神奈川県茅ケ崎市芹沢994']\n",
      "[4, 'contact', '0467-51-8814']\n",
      "[4, 'latitude', '35.371811']\n",
      "[4, 'longitude', '139.4218083']\n",
      "[4, 'st_type', '防災備蓄倉庫（コンテナ）']\n",
      "[6, 'name', '茅ケ崎市立小出小学校']\n",
      "[6, 'category', '公立小学校']\n",
      "[6, 'e_category', '地区防災拠点']\n",
      "[6, 'lodation', '神奈川県茅ケ崎市芹沢994']\n",
      "[6, 'contact', '0467-51-8814']\n",
      "[6, 'latitude', '35.371811']\n",
      "[6, 'longitude', '139.4218083']\n",
      "[6, 'st_type', '防災備蓄倉庫（コンテナ）']\n",
      "list_size=4\n",
      "output_formatXML\n"
     ]
    }
   ],
   "source": [
    "input_format = widgets.RadioButtons(\n",
    "    options=['定型文字列','XML', 'JSON',  'RDB', 'MongoDB'],\n",
    "    values =['TEXT','XML','JSON', 'RDB',  'MongoDB'],\n",
    "    description='入力形式：',\n",
    "    disabled=False\n",
    ")\n",
    "table_name = widgets.Text(\n",
    "    value='',\n",
    "    placeholder='RDBのテーブル名にあたるオブジェクト名',\n",
    "    description='オブジェクト名：',\n",
    "    disabled=False\n",
    ")\n",
    "facility_str = widgets.Textarea(\n",
    "    value='',\n",
    "    placeholder='各種形式のオブジェクト文字列を貼り付け',\n",
    "    description='施設情報：',\n",
    "    disabled=False\n",
    ")\n",
    "output_format = widgets.RadioButtons(\n",
    "    options=['XML', 'JSON', 'MongoDB', 'RDB','PythonのDict型の文字列'],\n",
    "    values =['XML','JSON','MongoDB','RDB','Python'],\n",
    "    description='出力形式：',\n",
    "    disabled=False\n",
    ")\n",
    "button = widgets.Button(description=\"送信\")\n",
    "\n",
    "display(input_format,  table_name, facility_str, output_format,button)"
   ]
  },
  {
   "cell_type": "code",
   "execution_count": 60,
   "metadata": {},
   "outputs": [],
   "source": [
    "import re\n",
    "def readFormatedText(input_str):\n",
    "    \n",
    "    input_lines = re.split('\\n',input_str)#改行文字(\\n)で文字列を分割\n",
    "\n",
    "    isID = 0\n",
    "    new_obj_dict = {}\n",
    "    for input_line in input_lines:\n",
    "        elems = []\n",
    "        elems = re.split(\"\\s+\",input_line)#空白文字(\\s)で文字列を分割\n",
    "        if len(elems) < 3 :#入力文字列内の改行のみの行などで要素が足りないことを防ぐ\n",
    "            continue\n",
    "        if len(elems[0]) != 0:#先頭のセルが空ではない（idの値が入っている）\n",
    "            if isID == 0:#最初のidの値であるかどうか\n",
    "                isID = 1\n",
    "            else:#2つ目以降のid値が入った行である場合\n",
    "                new_obj = facility(init_values_dic=new_obj_dict)#新たなfacility型インスタンスを作成\n",
    "                facility_list.append(new_obj) #結果用配列（リスト）に新たな結果を追加\n",
    "                new_obj_dict = {}#new_obj_dictを新たな空のdict型にする\n",
    "                isID += 1\n",
    "            new_obj_dict[elems[2]]=elems[3]#フィールド変数名と対応する値を読み取る\n",
    "        else:\n",
    "            new_obj_dict[elems[2]]=elems[3]#フィールド変数名と対応する値を読み取る\n",
    "\n",
    "    new_obj = facility(init_values_dic=new_obj_dict)#新たなfacility型インスタンスを作成（最後の分）\n",
    "    facility_list.append(new_obj)#結果用配列（リスト）に新たな結果を追加（最後の分）\n"
   ]
  },
  {
   "cell_type": "code",
   "execution_count": 61,
   "metadata": {},
   "outputs": [],
   "source": [
    "# xmldtodictがimportできない場合は，下記のコマンドをコメントを外して一回Runし，ipynbを再起動する\n",
    "#!pip install xmltodict --user\n",
    "import xmltodict\n",
    "def readXML(input_str):\n",
    "\n",
    "    tmp_dict = xmltodict.parse(input_str)\n",
    "    for class_name in tmp_dict[\"facility_list\"]:\n",
    "        if type(tmp_dict[\"facility_list\"][class_name]) is not list:\n",
    "            facility_list.append(facility(tmp_dict[\"facility_list\"][class_name]))\n",
    "        else:\n",
    "            for obj_dict in tmp_dict[\"facility_list\"][class_name]:\n",
    "                facility_list.append(facility(obj_dict))\n"
   ]
  },
  {
   "cell_type": "code",
   "execution_count": 62,
   "metadata": {},
   "outputs": [],
   "source": [
    "def readJSON(input_str):\n",
    "\n",
    "    tmp_list = json.loads(input_str)\n",
    "    for t_dict in tmp_list:\n",
    "        new_dict = {}\n",
    "        for t_key in t_dict.keys():\n",
    "           new_key = re.search(\"_(.+?)__(.+)\",t_key).group(2)\n",
    "           new_dict[new_key]=t_dict[t_key]\n",
    "        facility_list.append(facility(new_dict))\n"
   ]
  },
  {
   "cell_type": "code",
   "execution_count": 63,
   "metadata": {},
   "outputs": [],
   "source": [
    "from pymongo import MongoClient\n",
    "def readMongoDB():\n",
    "    client = MongoClient('localhost', 27017)#データベースサーバへの接続（今回は演習向けにパスワード無し）\n",
    "    db = client.各自のユーザ名 #「各自のユーザ名」のところは，b9p31000のように変更する\n",
    "    collection = db.facility #facilityはコレクション名（テーブルに相当）\n",
    "    \n",
    "    for facility_obj in collection.find():\n",
    "        #print(type(facility_obj)) #typeではdictと表示される\n",
    "        new_dict={}\n",
    "        for t_key in facility_obj.keys():\n",
    "            if re.match(\"_(.+?)__(.+)\",t_key):\n",
    "                new_key = re.search(\"_(.+?)__(.+)\",t_key).group(2)\n",
    "                new_dict[new_key]=facility_obj[t_key]\n",
    "                \n",
    "        facility_list.append(facility(new_dict))\n",
    "    "
   ]
  },
  {
   "cell_type": "code",
   "execution_count": 64,
   "metadata": {},
   "outputs": [],
   "source": [
    "import psycopg2\n",
    "import psycopg2.extras\n",
    "\n",
    "def readRDB():\n",
    "    \n",
    "    db_host = \"localhost\"\n",
    "    db_name = \"b9p31049\"\n",
    "    db_user = \"b9p31049\"\n",
    "    db_password = \"B9P31049\"\n",
    "    \n",
    "    conn_str = \"host=\" +db_host+\" dbname=\" +db_name+\" user=\"+db_user+\" password=\" +db_password\n",
    "    \n",
    "    connection = psycopg2.connect(conn_str) #データベースに接続\n",
    "    cursor = connection.cursor(cursor_factory=psycopg2.extras.DictCursor) #dict型でデータを読み書きすることを設定\n",
    "    \n",
    "    #データベースの指定されたテーブル名をクラス名として読み取る\n",
    "    sql = \"SELECT * FROM \"+table_name.value+\";\"\n",
    "    print(sql)\n",
    "    cursor.execute(sql)\n",
    "    \n",
    "    facility_dict = {}\n",
    "    prev_id = -1\n",
    "    for row in cursor:\n",
    "        print(row)\n",
    "        if prev_id == 0:\n",
    "            prev_id = row[\"id\"]\n",
    "        if row[\"id\"] == prev_id:\n",
    "            facility_dict[row[\"var_name\"]]=row[\"var_value\"]\n",
    "        else:\n",
    "            facility_list.append(facility(facility_dict))\n",
    "            facility_dict = {}\n",
    "            facility_dict[row[\"var_name\"]]=row[\"var_value\"]\n",
    "            prev_id = row[\"id\"]\n",
    "\n",
    "    facility_list.append(facility(facility_dict))\n",
    "    \n",
    "    cursor.close()\n",
    "    connection.close()"
   ]
  },
  {
   "cell_type": "code",
   "execution_count": 65,
   "metadata": {},
   "outputs": [],
   "source": [
    "def toXML():\n",
    "        facility_list_str = '<?xml version=\"1.0\" encoding=\"UTF-8\" standalone=\"yes\"?>\\n'\n",
    "        facility_list_str += '<facility_list>\\n'\n",
    "\n",
    "        for elem_obj in facility_list:\n",
    "            class_name = elem_obj.__class__.__name__\n",
    "            elem_obj_xml = '  <'+class_name+'>\\n'\n",
    "            elem_obj_dict = elem_obj.toDict()\n",
    "            for key in elem_obj_dict.keys():\n",
    "                name_space = '_'+class_name+'__'\n",
    "                val_name = key.replace(name_space,\"\")\n",
    "                elem_obj_xml += '    <'+val_name+'>'\n",
    "                elem_obj_xml += elem_obj_dict[key]\n",
    "                elem_obj_xml += '</'+val_name+'>\\n'\n",
    "            elem_obj_xml += '  </'+class_name+'>\\n'\n",
    "            facility_list_str += elem_obj_xml\n",
    "\n",
    "        facility_list_str += '</facility_list>\\n'\n",
    "        \n",
    "        return facility_list_str"
   ]
  },
  {
   "cell_type": "code",
   "execution_count": 66,
   "metadata": {},
   "outputs": [],
   "source": [
    "from pymongo import MongoClient\n",
    "def toMongoDB():\n",
    "    client = MongoClient('localhost', 27017)#データベースサーバへの接続（今回は演習向けにパスワード無し）\n",
    "    db = client.各自のユーザ名 #「各自のユーザ名」のところは，b9p31000のように変更する\n",
    "    collection = db.facility #facilityはコレクション名（テーブルに相当）\n",
    "\n",
    "    #Pythonのオブジェクトの配列をMongoDBの各自のfacilityコレクションに保存\n",
    "    for facility in facility_list:\n",
    "        collection.insert_one(facility.toDict())\n",
    "    \n",
    "    #追加後のfacilityコレクションの内容を表示\n",
    "    result_str = \"\"\n",
    "    for facility_obj in collection.find():\n",
    "        result_str += str(facility_obj)\n",
    "    \n",
    "    return result_str"
   ]
  },
  {
   "cell_type": "code",
   "execution_count": 67,
   "metadata": {},
   "outputs": [],
   "source": [
    "import psycopg2\n",
    "import psycopg2.extras\n",
    "\n",
    "def toRDB():\n",
    "\n",
    "    db_host = \"localhost\"\n",
    "    db_name = \"b9p31049\"#学籍番号のユーザ名\n",
    "    db_user = \"b9p31049\"#学籍番号のユーザ名\n",
    "    db_password = \"B9P31049\"#学籍番号のユーザ名のBとPを大文字にした文字列\n",
    "    \n",
    "    result_str = \"\"\n",
    "\n",
    "    conn_str = \"host=\"+db_host+\" dbname=\"+db_name+\" user=\"+db_user+\" password=\"+db_password\n",
    "    print(conn_str)\n",
    "    connection = psycopg2.connect(conn_str) #データベースに接続\n",
    "    cursor = connection.cursor(cursor_factory=psycopg2.extras.DictCursor) #dict型でデータを読み書きすることを設定\n",
    "\n",
    "    #facility_list内の各要素をデータベースのクラス名のテーブルに記録する\n",
    "    num = 0\n",
    "    id = 0\n",
    "    for elem_obj in facility_list:\n",
    "        # INSERT文を作る\n",
    "        class_name = elem_obj.__class__.__name__\n",
    "        if id == 0:\n",
    "            select_sql = \"SELECT MAX(id) FROM \"+class_name+\";\"\n",
    "            print(select_sql)\n",
    "            cursor.execute(select_sql)\n",
    "            for row in cursor:\n",
    "                id = row[\"max\"]\n",
    "        if id == None:\n",
    "            id = 0\n",
    "        id = id + 1\n",
    "        elem_obj_dict={}\n",
    "        elem_obj_dict = elem_obj.toDict()\n",
    "        for key in elem_obj_dict.keys():\n",
    "            name_space = '_'+class_name+'__'\n",
    "            var_name = key.replace(name_space,\"\")\n",
    "            var_value = elem_obj_dict[key]\n",
    "\n",
    "            insert_sql = \"INSERT INTO \"+class_name+\" VALUES (\"\n",
    "            insert_sql += str(id)+\", \"\n",
    "            insert_sql += \"'\"+var_name+\"',\"\n",
    "            insert_sql += \"'\"+var_value+\"'\"\n",
    "            insert_sql += \");\"\n",
    "            print(insert_sql)\n",
    "            cursor.execute(insert_sql) #INSERT文を実行する\n",
    "        connection.commit()#１つのオブジェクトの処理が終わるごとにコミットを行う（psycopg2は特に設定しないと内部でトランザクションを作る）\n",
    "        num += 1\n",
    "\n",
    "    cursor.close()\n",
    "    connection.close()\n",
    "    \n",
    "    result_str = str(num)+\"件のデータをデータベースに登録しました。\"\n",
    "\n",
    "    return result_str"
   ]
  },
  {
   "cell_type": "code",
   "execution_count": 68,
   "metadata": {},
   "outputs": [],
   "source": [
    "import json\n",
    "def on_button_clicked(b):#「送信」ボタンをクリックしたときに実行される処理\n",
    "    \n",
    "    #新しいfacility型オブジェクトの配列を作成\n",
    "    facility_list.clear()\n",
    "    if input_format.value == \"XML\":\n",
    "        readXML(facility_str.value)\n",
    "    elif input_format.value == \"JSON\":\n",
    "        readJSON(facility_str.value)\n",
    "    elif input_format.value == \"RDB\":\n",
    "        readRDB()\n",
    "    elif input_format.value == \"MongoDB\":\n",
    "        readMongoDB()\n",
    "    else:\n",
    "        readFormatedText(facility_str.value)\n",
    "    \n",
    "    facility_list_str = \"\"\n",
    "    print(\"list_size=\"+str(len(facility_list)))\n",
    "    print(\"output_format\"+str(output_format.value))\n",
    "    if output_format.value == \"XML\":\n",
    "        facility_list_str = toXML()\n",
    "    elif output_format.value == \"JSON\":\n",
    "        facility_list_str = \\\n",
    "          json.dumps(facility_list,default=vars, ensure_ascii=False)\n",
    "    elif output_format.value == \"MongoDB\":\n",
    "        facility_list_str = toMongoDB()\n",
    "    elif output_format.value == \"RDB\":\n",
    "        facility_list_str = toRDB()    \n",
    "    else:\n",
    "        for obj in facility_list:\n",
    "            facility_list_str = facility_list_str + str(obj.toDict())\n",
    "        \n",
    "    with output:\n",
    "        clear_output()\n",
    "        print(facility_list_str)\n"
   ]
  },
  {
   "cell_type": "code",
   "execution_count": 69,
   "metadata": {},
   "outputs": [
    {
     "data": {
      "application/vnd.jupyter.widget-view+json": {
       "model_id": "ef7d61b1506b4e6f9edb679dddef3fd6",
       "version_major": 2,
       "version_minor": 0
      },
      "text/plain": [
       "Output()"
      ]
     },
     "metadata": {},
     "output_type": "display_data"
    }
   ],
   "source": [
    "button.on_click(on_button_clicked)\n",
    "\n",
    "facility_list=list()\n",
    "\n",
    "output = widgets.Output()\n",
    "\n",
    "display(output)"
   ]
  },
  {
   "cell_type": "code",
   "execution_count": null,
   "metadata": {},
   "outputs": [],
   "source": []
  }
 ],
 "metadata": {
  "kernelspec": {
   "display_name": "Python 3",
   "language": "python",
   "name": "python3"
  },
  "language_info": {
   "codemirror_mode": {
    "name": "ipython",
    "version": 3
   },
   "file_extension": ".py",
   "mimetype": "text/x-python",
   "name": "python",
   "nbconvert_exporter": "python",
   "pygments_lexer": "ipython3",
   "version": "3.7.7"
  }
 },
 "nbformat": 4,
 "nbformat_minor": 4
}
